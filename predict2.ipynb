{
 "cells": [
  {
   "cell_type": "markdown",
   "metadata": {},
   "source": [
    "# UFC Fight Prediction"
   ]
  },
  {
   "cell_type": "markdown",
   "metadata": {},
   "source": [
    "### Importing Libraries"
   ]
  },
  {
   "cell_type": "code",
   "execution_count": 1,
   "metadata": {},
   "outputs": [],
   "source": [
    "import pandas as pd\n",
    "import numpy as np\n",
    "import matplotlib.pyplot as plt"
   ]
  },
  {
   "cell_type": "code",
   "execution_count": 2,
   "metadata": {},
   "outputs": [],
   "source": [
    "from sklearn.model_selection import train_test_split\n",
    "from sklearn.model_selection import cross_val_score\n",
    "from sklearn.model_selection import StratifiedKFold\n",
    "from sklearn.model_selection import KFold\n",
    "from sklearn.metrics import accuracy_score"
   ]
  },
  {
   "cell_type": "markdown",
   "metadata": {},
   "source": [
    "### Load and Clean Data"
   ]
  },
  {
   "cell_type": "code",
   "execution_count": 3,
   "metadata": {},
   "outputs": [
    {
     "name": "stdout",
     "output_type": "stream",
     "text": [
      "<class 'pandas.core.frame.DataFrame'>\n",
      "RangeIndex: 6528 entries, 0 to 6527\n",
      "Columns: 118 entries, RedFighter to BKOOdds\n",
      "dtypes: bool(1), float64(60), int64(43), object(14)\n",
      "memory usage: 5.8+ MB\n"
     ]
    }
   ],
   "source": [
    "raw = pd.read_csv('ufc-master.csv')\n",
    "raw.info()"
   ]
  },
  {
   "cell_type": "code",
   "execution_count": 4,
   "metadata": {},
   "outputs": [
    {
     "data": {
      "text/plain": [
       "Index(['RedFighter', 'BlueFighter', 'Date', 'Location', 'Country', 'Winner',\n",
       "       'WeightClass', 'Gender', 'BlueStance', 'RedStance', 'BetterRank',\n",
       "       'Finish', 'FinishDetails', 'FinishRoundTime'],\n",
       "      dtype='object')"
      ]
     },
     "execution_count": 4,
     "metadata": {},
     "output_type": "execute_result"
    }
   ],
   "source": [
    "not_num = raw.select_dtypes(['object']).columns\n",
    "not_num"
   ]
  },
  {
   "cell_type": "code",
   "execution_count": 5,
   "metadata": {},
   "outputs": [
    {
     "data": {
      "text/html": [
       "<div>\n",
       "<style scoped>\n",
       "    .dataframe tbody tr th:only-of-type {\n",
       "        vertical-align: middle;\n",
       "    }\n",
       "\n",
       "    .dataframe tbody tr th {\n",
       "        vertical-align: top;\n",
       "    }\n",
       "\n",
       "    .dataframe thead th {\n",
       "        text-align: right;\n",
       "    }\n",
       "</style>\n",
       "<table border=\"1\" class=\"dataframe\">\n",
       "  <thead>\n",
       "    <tr style=\"text-align: right;\">\n",
       "      <th></th>\n",
       "      <th>Winner</th>\n",
       "      <th>WeightClass</th>\n",
       "      <th>BlueStance</th>\n",
       "      <th>RedStance</th>\n",
       "    </tr>\n",
       "  </thead>\n",
       "  <tbody>\n",
       "    <tr>\n",
       "      <th>0</th>\n",
       "      <td>Red</td>\n",
       "      <td>Flyweight</td>\n",
       "      <td>Orthodox</td>\n",
       "      <td>Orthodox</td>\n",
       "    </tr>\n",
       "    <tr>\n",
       "      <th>1</th>\n",
       "      <td>Red</td>\n",
       "      <td>Welterweight</td>\n",
       "      <td>Orthodox</td>\n",
       "      <td>Orthodox</td>\n",
       "    </tr>\n",
       "    <tr>\n",
       "      <th>2</th>\n",
       "      <td>Red</td>\n",
       "      <td>Heavyweight</td>\n",
       "      <td>Orthodox</td>\n",
       "      <td>Orthodox</td>\n",
       "    </tr>\n",
       "    <tr>\n",
       "      <th>3</th>\n",
       "      <td>Red</td>\n",
       "      <td>Featherweight</td>\n",
       "      <td>Southpaw</td>\n",
       "      <td>Southpaw</td>\n",
       "    </tr>\n",
       "    <tr>\n",
       "      <th>4</th>\n",
       "      <td>Blue</td>\n",
       "      <td>Featherweight</td>\n",
       "      <td>Orthodox</td>\n",
       "      <td>Orthodox</td>\n",
       "    </tr>\n",
       "    <tr>\n",
       "      <th>...</th>\n",
       "      <td>...</td>\n",
       "      <td>...</td>\n",
       "      <td>...</td>\n",
       "      <td>...</td>\n",
       "    </tr>\n",
       "    <tr>\n",
       "      <th>6523</th>\n",
       "      <td>Blue</td>\n",
       "      <td>Lightweight</td>\n",
       "      <td>Orthodox</td>\n",
       "      <td>Orthodox</td>\n",
       "    </tr>\n",
       "    <tr>\n",
       "      <th>6524</th>\n",
       "      <td>Red</td>\n",
       "      <td>Welterweight</td>\n",
       "      <td>Southpaw</td>\n",
       "      <td>Orthodox</td>\n",
       "    </tr>\n",
       "    <tr>\n",
       "      <th>6525</th>\n",
       "      <td>Red</td>\n",
       "      <td>Heavyweight</td>\n",
       "      <td>Orthodox</td>\n",
       "      <td>Orthodox</td>\n",
       "    </tr>\n",
       "    <tr>\n",
       "      <th>6526</th>\n",
       "      <td>Red</td>\n",
       "      <td>Welterweight</td>\n",
       "      <td>Orthodox</td>\n",
       "      <td>Orthodox</td>\n",
       "    </tr>\n",
       "    <tr>\n",
       "      <th>6527</th>\n",
       "      <td>Blue</td>\n",
       "      <td>Light Heavyweight</td>\n",
       "      <td>Orthodox</td>\n",
       "      <td>Orthodox</td>\n",
       "    </tr>\n",
       "  </tbody>\n",
       "</table>\n",
       "<p>6528 rows × 4 columns</p>\n",
       "</div>"
      ],
      "text/plain": [
       "     Winner        WeightClass BlueStance RedStance\n",
       "0       Red          Flyweight   Orthodox  Orthodox\n",
       "1       Red       Welterweight   Orthodox  Orthodox\n",
       "2       Red        Heavyweight   Orthodox  Orthodox\n",
       "3       Red      Featherweight   Southpaw  Southpaw\n",
       "4      Blue      Featherweight   Orthodox  Orthodox\n",
       "...     ...                ...        ...       ...\n",
       "6523   Blue        Lightweight   Orthodox  Orthodox\n",
       "6524    Red       Welterweight   Southpaw  Orthodox\n",
       "6525    Red        Heavyweight   Orthodox  Orthodox\n",
       "6526    Red       Welterweight   Orthodox  Orthodox\n",
       "6527   Blue  Light Heavyweight   Orthodox  Orthodox\n",
       "\n",
       "[6528 rows x 4 columns]"
      ]
     },
     "execution_count": 5,
     "metadata": {},
     "output_type": "execute_result"
    }
   ],
   "source": [
    "raw.drop(columns = ['RedFighter', 'BlueFighter', 'Date', 'Location', 'Country', 'Gender', 'BetterRank', 'Finish', 'FinishDetails', 'FinishRoundTime'], inplace = True)\n",
    "\n",
    "raw.select_dtypes(['object'])"
   ]
  },
  {
   "cell_type": "code",
   "execution_count": 6,
   "metadata": {},
   "outputs": [
    {
     "name": "stderr",
     "output_type": "stream",
     "text": [
      "/var/folders/dd/1z0t59cd1yz727ndmzd5xk1h0000gn/T/ipykernel_23454/372759028.py:3: FutureWarning: Downcasting behavior in `replace` is deprecated and will be removed in a future version. To retain the old behavior, explicitly call `result.infer_objects(copy=False)`. To opt-in to the future behavior, set `pd.set_option('future.no_silent_downcasting', True)`\n",
      "  raw['RedStance'] = raw['RedStance'].replace(stance_map)\n",
      "/var/folders/dd/1z0t59cd1yz727ndmzd5xk1h0000gn/T/ipykernel_23454/372759028.py:6: FutureWarning: Downcasting behavior in `replace` is deprecated and will be removed in a future version. To retain the old behavior, explicitly call `result.infer_objects(copy=False)`. To opt-in to the future behavior, set `pd.set_option('future.no_silent_downcasting', True)`\n",
      "  raw['Winner'] = raw['Winner'].replace(win_map)\n",
      "/var/folders/dd/1z0t59cd1yz727ndmzd5xk1h0000gn/T/ipykernel_23454/372759028.py:7: FutureWarning: A value is trying to be set on a copy of a DataFrame or Series through chained assignment using an inplace method.\n",
      "The behavior will change in pandas 3.0. This inplace method will never work because the intermediate object on which we are setting values always behaves as a copy.\n",
      "\n",
      "For example, when doing 'df[col].method(value, inplace=True)', try using 'df.method({col: value}, inplace=True)' or df[col] = df[col].method(value) instead, to perform the operation inplace on the original object.\n",
      "\n",
      "\n",
      "  raw['Winner'].replace(np.nan, 2, inplace = True)\n"
     ]
    }
   ],
   "source": [
    "stance_map = {'Orthodox': 0, 'Southpaw': 1, 'Switch': 2, 'Open Stance': 3}\n",
    "raw['BlueStance'] = raw['BlueStance'].replace(stance_map)\n",
    "raw['RedStance'] = raw['RedStance'].replace(stance_map)\n",
    "\n",
    "win_map = {'Red': 0, 'Blue': 1}\n",
    "raw['Winner'] = raw['Winner'].replace(win_map)\n",
    "raw['Winner'].replace(np.nan, 2, inplace = True)"
   ]
  },
  {
   "cell_type": "code",
   "execution_count": 7,
   "metadata": {},
   "outputs": [
    {
     "data": {
      "text/plain": [
       "Winner\n",
       "0    3787\n",
       "1    2741\n",
       "Name: count, dtype: int64"
      ]
     },
     "execution_count": 7,
     "metadata": {},
     "output_type": "execute_result"
    }
   ],
   "source": [
    "raw['Winner'].unique()\n",
    "raw['Winner'].value_counts()"
   ]
  },
  {
   "cell_type": "code",
   "execution_count": 8,
   "metadata": {},
   "outputs": [],
   "source": [
    "x = raw.drop(columns = ['Winner'])\n",
    "y = raw['Winner']"
   ]
  },
  {
   "cell_type": "code",
   "execution_count": 9,
   "metadata": {},
   "outputs": [],
   "source": [
    "def fill_nan(x):\n",
    "    df_filled = x.copy()\n",
    "    numeric_cols = df_filled.select_dtypes(include=[np.number]).columns\n",
    "    df_filled[numeric_cols] = df_filled.groupby('WeightClass')[numeric_cols].transform(lambda x: x.fillna(x.mean()))\n",
    "\n",
    "    remaining_na = df_filled[numeric_cols].isna().sum().sum()\n",
    "    if remaining_na > 0:\n",
    "        df_filled[numeric_cols] = df_filled[numeric_cols].fillna(df_filled[numeric_cols].mean())\n",
    "\n",
    "    return df_filled\n",
    "\n",
    "x_filled = fill_nan(x)\n",
    "\n",
    "x_filled.replace(np.nan, 0, inplace = True)\n",
    "\n",
    "x_filled_num = x_filled.select_dtypes(include=[np.number])\n"
   ]
  },
  {
   "cell_type": "code",
   "execution_count": 10,
   "metadata": {},
   "outputs": [],
   "source": [
    "x_train, x_test, y_train, y_test = train_test_split(x_filled_num, y, test_size = 0.2, random_state = 42)"
   ]
  },
  {
   "cell_type": "code",
   "execution_count": 11,
   "metadata": {},
   "outputs": [
    {
     "name": "stdout",
     "output_type": "stream",
     "text": [
      "(5222, 104)\n",
      "(1306, 104)\n",
      "(5222,)\n",
      "(1306,)\n"
     ]
    }
   ],
   "source": [
    "print(x_train.shape)\n",
    "print(x_test.shape)\n",
    "print(y_train.shape)\n",
    "print(y_test.shape)"
   ]
  },
  {
   "cell_type": "code",
   "execution_count": 12,
   "metadata": {},
   "outputs": [],
   "source": [
    "seed = 350\n",
    "np.random.seed(seed)"
   ]
  },
  {
   "cell_type": "markdown",
   "metadata": {},
   "source": [
    "### Initialize Models"
   ]
  },
  {
   "cell_type": "code",
   "execution_count": 13,
   "metadata": {},
   "outputs": [],
   "source": [
    "from sklearn.preprocessing import StandardScaler\n",
    "\n",
    "scaler = StandardScaler()\n",
    "x_train = scaler.fit_transform(x_train)\n",
    "x_test = scaler.transform(x_test)"
   ]
  },
  {
   "cell_type": "markdown",
   "metadata": {},
   "source": [
    "#### Logistic Regression"
   ]
  },
  {
   "cell_type": "code",
   "execution_count": 14,
   "metadata": {},
   "outputs": [
    {
     "name": "stdout",
     "output_type": "stream",
     "text": [
      "Logistic Regression kfold score: 0.6566463740723646\n",
      "Logistic Regression kfold mean score: 0.6566463740723646\n"
     ]
    }
   ],
   "source": [
    "from sklearn.linear_model import LogisticRegression\n",
    "\n",
    "lr = LogisticRegression(max_iter = 1000)\n",
    "kfold_lr = StratifiedKFold(n_splits = 10, random_state = seed, shuffle = True)\n",
    "cv_lr = cross_val_score(lr, x_train, y_train, cv = kfold_lr)\n",
    "lr_score = cv_lr.mean()\n",
    "lr.fit(x_train, y_train)\n",
    "\n",
    "print('Logistic Regression kfold score:', lr_score) \n",
    "print('Logistic Regression kfold mean score:', lr_score)    "
   ]
  },
  {
   "cell_type": "markdown",
   "metadata": {},
   "source": [
    "#### Random Forest"
   ]
  },
  {
   "cell_type": "code",
   "execution_count": 31,
   "metadata": {},
   "outputs": [
    {
     "name": "stdout",
     "output_type": "stream",
     "text": [
      "Random Forest kfold score: 0.6464912859058043\n",
      "Random Forest kfold mean score: 0.6464912859058043\n"
     ]
    }
   ],
   "source": [
    "from sklearn.ensemble import RandomForestClassifier\n",
    "\n",
    "rf = RandomForestClassifier(random_state = seed)\n",
    "kfold_rf = StratifiedKFold(n_splits = 10, random_state = seed, shuffle = True)\n",
    "cv_rf = cross_val_score(rf, x_train, y_train, cv = kfold_rf)\n",
    "rf_score = cv_rf.mean()\n",
    "\n",
    "print('Random Forest kfold score:', rf_score)  \n",
    "print('Random Forest kfold mean score:', rf_score)\n"
   ]
  },
  {
   "cell_type": "markdown",
   "metadata": {},
   "source": [
    "#### K-Nearest Neighbors"
   ]
  },
  {
   "cell_type": "code",
   "execution_count": 16,
   "metadata": {},
   "outputs": [
    {
     "name": "stdout",
     "output_type": "stream",
     "text": [
      "KNN kfold score: 0.5903826289532098\n",
      "KNN kfold mean score: 0.5903826289532098\n"
     ]
    }
   ],
   "source": [
    "from sklearn.neighbors import KNeighborsClassifier\n",
    "\n",
    "knn = KNeighborsClassifier()\n",
    "kfold_knn = StratifiedKFold(n_splits = 10, random_state = seed, shuffle = True)\n",
    "cv_knn = cross_val_score(knn, x_train, y_train, cv = kfold_knn)\n",
    "knn_score = cv_knn.mean()\n",
    "\n",
    "print('KNN kfold score:', knn_score)\n",
    "print('KNN kfold mean score:', knn_score)"
   ]
  },
  {
   "cell_type": "markdown",
   "metadata": {},
   "source": [
    "#### Decision Tree"
   ]
  },
  {
   "cell_type": "code",
   "execution_count": 17,
   "metadata": {},
   "outputs": [
    {
     "name": "stdout",
     "output_type": "stream",
     "text": [
      "Decision Tree kfold score: 0.5704676820289664\n",
      "Decision Tree kfold mean score: 0.5704676820289664\n"
     ]
    }
   ],
   "source": [
    "from sklearn import tree\n",
    "\n",
    "dt = tree.DecisionTreeClassifier(random_state = seed)\n",
    "kfold_dt = StratifiedKFold(n_splits = 10, random_state = seed, shuffle = True)\n",
    "cv_dt = cross_val_score(dt, x_train, y_train, cv = kfold_dt)\n",
    "dt_score = cv_dt.mean()\n",
    "\n",
    "print('Decision Tree kfold score:', dt_score)\n",
    "print('Decision Tree kfold mean score:', dt_score)"
   ]
  },
  {
   "cell_type": "markdown",
   "metadata": {},
   "source": [
    "### Neural Network"
   ]
  },
  {
   "cell_type": "code",
   "execution_count": 18,
   "metadata": {},
   "outputs": [],
   "source": [
    "import torch\n",
    "import torch.nn as nn\n",
    "from sklearn.preprocessing import LabelEncoder\n",
    "import torch.nn.functional as F\n",
    "from torch.utils.data import DataLoader, TensorDataset\n",
    "\n",
    "encoder = LabelEncoder()\n",
    "y_train = encoder.fit_transform(y_train)\n",
    "y_test = encoder.transform(y_test)"
   ]
  },
  {
   "cell_type": "code",
   "execution_count": 19,
   "metadata": {},
   "outputs": [],
   "source": [
    "x_train_tensor = torch.tensor(x_train, dtype = torch.float32)\n",
    "x_test_tensor = torch.tensor(x_test, dtype = torch.float32)\n",
    "\n",
    "y_train_tensor = torch.tensor(y_train, dtype = torch.long)\n",
    "y_test_tensor = torch.tensor(y_test, dtype = torch.long)"
   ]
  },
  {
   "cell_type": "code",
   "execution_count": 20,
   "metadata": {},
   "outputs": [],
   "source": [
    "class NN(nn.Module):\n",
    "    def __init__(self, input_dim):\n",
    "        super(NN, self).__init__()\n",
    "        \n",
    "        self.layer1 = nn.Linear(input_dim, 256)\n",
    "        self.layer2 = nn.Linear(256, 128)\n",
    "        self.layer3 = nn.Linear(128, 64)\n",
    "        self.layer4 = nn.Linear(64, 32)\n",
    "        self.output = nn.Linear(32, 2)\n",
    "\n",
    "        self.dropout = nn.Dropout(0.3)\n",
    "\n",
    "        self.bn1 = nn.BatchNorm1d(256)\n",
    "        self.bn2 = nn.BatchNorm1d(128)\n",
    "        self.bn3 = nn.BatchNorm1d(64)\n",
    "        self.bn4 = nn.BatchNorm1d(32)\n",
    "        \n",
    "    def forward(self, x):\n",
    "        \n",
    "        x = self.layer1(x)\n",
    "        x = self.bn1(x)\n",
    "        x = F.relu(x)\n",
    "        x = self.dropout(x)\n",
    "\n",
    "        x = self.layer2(x)\n",
    "        x = self.bn2(x)\n",
    "        x = F.relu(x)\n",
    "        x = self.dropout(x)\n",
    "\n",
    "        x = self.layer3(x)\n",
    "        x = self.bn3(x)\n",
    "        x = F.relu(x)\n",
    "        x = self.dropout(x)\n",
    "        \n",
    "        x = self.layer4(x)\n",
    "        x = self.bn4(x)\n",
    "        x = F.relu(x)\n",
    "        x = self.dropout(x)\n",
    "\n",
    "        x = self.output(x)\n",
    "        \n",
    "        return F.log_softmax(x, dim = 1)"
   ]
  },
  {
   "cell_type": "code",
   "execution_count": 21,
   "metadata": {},
   "outputs": [],
   "source": [
    "model = NN(x_train_tensor.shape[1])"
   ]
  },
  {
   "cell_type": "code",
   "execution_count": 22,
   "metadata": {},
   "outputs": [],
   "source": [
    "criterion = nn.CrossEntropyLoss()\n",
    "optimizer = torch.optim.Adam(model.parameters())"
   ]
  },
  {
   "cell_type": "code",
   "execution_count": 23,
   "metadata": {},
   "outputs": [],
   "source": [
    "def train_nn(nn, x_train, y_train, epochs, batch_size):\n",
    "    device = torch.device('cuda:0' if torch.cuda.is_available() else 'cpu')\n",
    "    nn = nn.to(device)\n",
    "    \n",
    "    train_dataset = TensorDataset(torch.FloatTensor(x_train), torch.LongTensor(y_train))\n",
    "    train_loader = DataLoader(train_dataset, batch_size = batch_size, shuffle = True)\n",
    "    \n",
    "    train_losses = []\n",
    "    nn.train()\n",
    "\n",
    "    for epoch in range(epochs):\n",
    "        epoch_loss = 0.0\n",
    "        batch_count = 0\n",
    "\n",
    "        for batch_x, batch_y in train_loader:\n",
    "            batch_x, batch_y = batch_x.to(device), batch_y.to(device)\n",
    "            \n",
    "            optimizer.zero_grad()\n",
    "\n",
    "            output = nn(batch_x)\n",
    "            loss = criterion(output, batch_y)\n",
    "\n",
    "            loss.backward()\n",
    "            optimizer.step()\n",
    "\n",
    "            epoch_loss += loss.item()\n",
    "            batch_count += 1\n",
    "\n",
    "        avg_epoch_loss = epoch_loss / batch_count\n",
    "        train_losses.append(avg_epoch_loss)\n",
    "\n",
    "        if epoch % 50 == 0:\n",
    "            print(f'Epoch: {epoch}, Loss: {avg_epoch_loss:.4f}')\n",
    "\n",
    "    return train_losses"
   ]
  },
  {
   "cell_type": "code",
   "execution_count": 24,
   "metadata": {},
   "outputs": [],
   "source": [
    "def eval_nn(nn, x_test, y_test, batch_size, criterion):\n",
    "    device = torch.device('cuda:0' if torch.cuda.is_available() else 'cpu')\n",
    "    nn = nn.to(device)\n",
    "    \n",
    "    test_dataset = TensorDataset(torch.FloatTensor(x_test), torch.LongTensor(y_test))\n",
    "    test_loader = DataLoader(test_dataset, batch_size = batch_size, shuffle = False)\n",
    "    \n",
    "    nn.eval()\n",
    "    test_loss = 0.0\n",
    "    batch_count = 0\n",
    "    predictions = []\n",
    "\n",
    "    with torch.no_grad():\n",
    "        for batch_x, batch_y in test_loader:\n",
    "            batch_x, batch_y = batch_x.to(device), batch_y.to(device)\n",
    "\n",
    "            output = nn(batch_x)\n",
    "            loss = criterion(output, batch_y)\n",
    "\n",
    "            test_loss += loss.item()\n",
    "            batch_count += 1\n",
    "            \n",
    "            _, predicted = torch.max(output, 1)\n",
    "            predictions.extend(predicted.cpu().numpy())\n",
    "        \n",
    "        avg_test_loss = test_loss / batch_count\n",
    "\n",
    "        print(f'Average Test Loss: {avg_test_loss:.4f}')\n",
    "\n",
    "    return avg_test_loss, predictions\n",
    "\n"
   ]
  },
  {
   "cell_type": "code",
   "execution_count": 25,
   "metadata": {},
   "outputs": [],
   "source": [
    "def get_score(model, x_test, y_test):\n",
    "    model.eval()\n",
    "    with torch.no_grad():\n",
    "        outputs = model(x_test)\n",
    "        _, predicted = torch.max(outputs.data, 1)\n",
    "        accuracy = (predicted == y_test).sum().item()/len(y_test)\n",
    "        return accuracy"
   ]
  },
  {
   "cell_type": "code",
   "execution_count": 26,
   "metadata": {},
   "outputs": [],
   "source": [
    "def predict(nn, x_test):\n",
    "    nn.eval()\n",
    "    with torch.no_grad():\n",
    "        output = nn(x_test)\n",
    "        _, predicted = torch.max(output, 1)\n",
    "        return predicted"
   ]
  },
  {
   "cell_type": "code",
   "execution_count": null,
   "metadata": {},
   "outputs": [
    {
     "name": "stdout",
     "output_type": "stream",
     "text": [
      "Epoch: 0, Loss: 0.6605\n",
      "Epoch: 50, Loss: 0.4025\n",
      "Epoch: 100, Loss: 0.3009\n",
      "Epoch: 150, Loss: 0.2616\n",
      "Epoch: 200, Loss: 0.2131\n",
      "Epoch: 250, Loss: 0.2207\n",
      "Epoch: 300, Loss: 0.2107\n",
      "Epoch: 350, Loss: 0.1863\n",
      "Epoch: 400, Loss: 0.1954\n",
      "Epoch: 450, Loss: 0.1706\n"
     ]
    }
   ],
   "source": [
    "model_trained = train_nn(model, x_train_tensor, y_train_tensor, 500, 32)"
   ]
  },
  {
   "cell_type": "code",
   "execution_count": 28,
   "metadata": {},
   "outputs": [
    {
     "name": "stdout",
     "output_type": "stream",
     "text": [
      "Average Test Loss: 1.2079\n"
     ]
    }
   ],
   "source": [
    "val_model = eval_nn(model, x_test_tensor, y_test_tensor, 32, criterion)"
   ]
  },
  {
   "cell_type": "code",
   "execution_count": 29,
   "metadata": {},
   "outputs": [
    {
     "name": "stdout",
     "output_type": "stream",
     "text": [
      "NN Accuracy: 0.608728943338438\n"
     ]
    }
   ],
   "source": [
    "score = get_score(model, x_test_tensor, y_test_tensor)\n",
    "print('NN Accuracy:', score)"
   ]
  },
  {
   "cell_type": "code",
   "execution_count": 32,
   "metadata": {},
   "outputs": [
    {
     "data": {
      "text/html": [
       "<div>\n",
       "<style scoped>\n",
       "    .dataframe tbody tr th:only-of-type {\n",
       "        vertical-align: middle;\n",
       "    }\n",
       "\n",
       "    .dataframe tbody tr th {\n",
       "        vertical-align: top;\n",
       "    }\n",
       "\n",
       "    .dataframe thead th {\n",
       "        text-align: right;\n",
       "    }\n",
       "</style>\n",
       "<table border=\"1\" class=\"dataframe\">\n",
       "  <thead>\n",
       "    <tr style=\"text-align: right;\">\n",
       "      <th></th>\n",
       "      <th>Model</th>\n",
       "      <th>Score</th>\n",
       "    </tr>\n",
       "  </thead>\n",
       "  <tbody>\n",
       "    <tr>\n",
       "      <th>0</th>\n",
       "      <td>Logistic Regression</td>\n",
       "      <td>0.656646</td>\n",
       "    </tr>\n",
       "    <tr>\n",
       "      <th>1</th>\n",
       "      <td>Random Forest</td>\n",
       "      <td>0.646491</td>\n",
       "    </tr>\n",
       "    <tr>\n",
       "      <th>2</th>\n",
       "      <td>KNN</td>\n",
       "      <td>0.590383</td>\n",
       "    </tr>\n",
       "    <tr>\n",
       "      <th>3</th>\n",
       "      <td>Decision Tree</td>\n",
       "      <td>0.570468</td>\n",
       "    </tr>\n",
       "    <tr>\n",
       "      <th>4</th>\n",
       "      <td>Neural Network</td>\n",
       "      <td>0.608729</td>\n",
       "    </tr>\n",
       "  </tbody>\n",
       "</table>\n",
       "</div>"
      ],
      "text/plain": [
       "                 Model     Score\n",
       "0  Logistic Regression  0.656646\n",
       "1        Random Forest  0.646491\n",
       "2                  KNN  0.590383\n",
       "3        Decision Tree  0.570468\n",
       "4       Neural Network  0.608729"
      ]
     },
     "execution_count": 32,
     "metadata": {},
     "output_type": "execute_result"
    }
   ],
   "source": [
    "scores = [['Logistic Regression', lr_score], ['Random Forest', rf_score], ['KNN', knn_score], ['Decision Tree', dt_score], ['Neural Network', score]]\n",
    "\n",
    "df_scores = pd.DataFrame(scores, columns = ['Model', 'Score'])\n",
    "df_scores"
   ]
  },
  {
   "cell_type": "markdown",
   "metadata": {},
   "source": [
    "### Confusion Matrix Plots "
   ]
  },
  {
   "cell_type": "code",
   "execution_count": 33,
   "metadata": {},
   "outputs": [],
   "source": [
    "from sklearn.metrics import confusion_matrix, ConfusionMatrixDisplay\n",
    "import matplotlib.pyplot as plt"
   ]
  },
  {
   "cell_type": "code",
   "execution_count": 34,
   "metadata": {},
   "outputs": [
    {
     "data": {
      "image/png": "[encoded data removed]",
      "text/plain": [
       "<Figure size 640x480 with 2 Axes>"
      ]
     },
     "metadata": {},
     "output_type": "display_data"
    }
   ],
   "source": [
    "rf.fit(x_train, y_train)\n",
    "y_pred_rf = rf.predict(x_test)\n",
    "rf_cm = confusion_matrix(y_test, y_pred_rf)\n",
    "disp_rf = ConfusionMatrixDisplay(rf_cm, display_labels = encoder.classes_)\n",
    "disp_rf.plot()\n",
    "disp_rf.ax_.set_title('Random Forest Confusion Matrix')\n",
    "plt.show()"
   ]
  },
  {
   "cell_type": "code",
   "execution_count": 35,
   "metadata": {},
   "outputs": [
    {
     "data": {
      "image/png": "[encoded data removed]",
      "text/plain": [
       "<Figure size 640x480 with 2 Axes>"
      ]
     },
     "metadata": {},
     "output_type": "display_data"
    }
   ],
   "source": [
    "knn.fit(x_train, y_train)\n",
    "y_pred_knn = knn.predict(x_test)\n",
    "knn_cm = confusion_matrix(y_test, y_pred_knn)\n",
    "disp_knn = ConfusionMatrixDisplay(knn_cm, display_labels = encoder.classes_)\n",
    "disp_knn.plot()\n",
    "disp_knn.ax_.set_title('KNN Confusion Matrix')\n",
    "plt.show()"
   ]
  },
  {
   "cell_type": "code",
   "execution_count": 36,
   "metadata": {},
   "outputs": [
    {
     "data": {
      "image/png": "[encoded data removed]",
      "text/plain": [
       "<Figure size 640x480 with 2 Axes>"
      ]
     },
     "metadata": {},
     "output_type": "display_data"
    }
   ],
   "source": [
    "dt.fit(x_train, y_train)\n",
    "y_pred_dt = dt.predict(x_test)\n",
    "dt_cm = confusion_matrix(y_test, y_pred_dt)\n",
    "disp_dt = ConfusionMatrixDisplay(dt_cm, display_labels = encoder.classes_)\n",
    "disp_dt.plot()\n",
    "disp_dt.ax_.set_title('Decision Tree Confusion Matrix')\n",
    "plt.show()"
   ]
  },
  {
   "cell_type": "code",
   "execution_count": 37,
   "metadata": {},
   "outputs": [
    {
     "data": {
      "image/png": "[encoded data removed]",
      "text/plain": [
       "<Figure size 640x480 with 2 Axes>"
      ]
     },
     "metadata": {},
     "output_type": "display_data"
    }
   ],
   "source": [
    "y_pred_lr = lr.predict(x_test)\n",
    "lr_cm = confusion_matrix(y_test, y_pred_lr)\n",
    "disp_lr = ConfusionMatrixDisplay(lr_cm, display_labels = encoder.classes_)\n",
    "disp_lr.plot()\n",
    "disp_lr.ax_.set_title('Logistic Regression Confusion Matrix')\n",
    "plt.show()"
   ]
  }
 ],
 "metadata": {
  "kernelspec": {
   "display_name": "ufc_env",
   "language": "python",
   "name": "python3"
  },
  "language_info": {
   "codemirror_mode": {
    "name": "ipython",
    "version": 3
   },
   "file_extension": ".py",
   "mimetype": "text/x-python",
   "name": "python",
   "nbconvert_exporter": "python",
   "pygments_lexer": "ipython3",
   "version": "3.12.1"
  }
 },
 "nbformat": 4,
 "nbformat_minor": 2
}
