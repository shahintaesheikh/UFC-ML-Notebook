{
 "cells": [
  {
   "cell_type": "markdown",
   "metadata": {},
   "source": [
    "# UFC Fight EDA and Prediction"
   ]
  },
  {
   "cell_type": "markdown",
   "metadata": {},
   "source": [
    "## Import necessary libraries"
   ]
  },
  {
   "cell_type": "code",
   "execution_count": 1,
   "metadata": {},
   "outputs": [],
   "source": [
    "import pandas as pd\n",
    "import numpy as np\n",
    "import matplotlib.pyplot as plt\n",
    "import seaborn as sns"
   ]
  },
  {
   "cell_type": "code",
   "execution_count": 2,
   "metadata": {},
   "outputs": [],
   "source": [
    "from sklearn.model_selection import train_test_split\n",
    "from sklearn.model_selection import KFold\n",
    "from sklearn.model_selection import StratifiedKFold\n",
    "from sklearn.metrics import accuracy_score\n",
    "from sklearn.metrics import confusion_matrix\n",
    "from sklearn.model_selection import cross_val_score\n",
    "from sklearn.naive_bayes import GaussianNB\n",
    "from sklearn.linear_model import LogisticRegression\n",
    "from sklearn.neighbors import KNeighborsClassifier\n",
    "from sklearn.ensemble import RandomForestClassifier\n"
   ]
  },
  {
   "cell_type": "markdown",
   "metadata": {},
   "source": [
    "## Load and clean data"
   ]
  },
  {
   "cell_type": "code",
   "execution_count": 3,
   "metadata": {},
   "outputs": [
    {
     "name": "stdout",
     "output_type": "stream",
     "text": [
      "<class 'pandas.core.frame.DataFrame'>\n",
      "RangeIndex: 6528 entries, 0 to 6527\n",
      "Columns: 118 entries, RedFighter to BKOOdds\n",
      "dtypes: bool(1), float64(60), int64(43), object(14)\n",
      "memory usage: 5.8+ MB\n"
     ]
    }
   ],
   "source": [
    "data = pd.read_csv('ufc-master.csv')\n",
    "data.info()"
   ]
  },
  {
   "cell_type": "code",
   "execution_count": 4,
   "metadata": {},
   "outputs": [
    {
     "data": {
      "text/plain": [
       "Index(['RedFighter', 'BlueFighter', 'Date', 'Location', 'Country', 'Winner',\n",
       "       'WeightClass', 'Gender', 'BlueStance', 'RedStance', 'BetterRank',\n",
       "       'Finish', 'FinishDetails', 'FinishRoundTime'],\n",
       "      dtype='object')"
      ]
     },
     "execution_count": 4,
     "metadata": {},
     "output_type": "execute_result"
    }
   ],
   "source": [
    "not_stats = data.select_dtypes(include=['object']).columns\n",
    "not_stats"
   ]
  },
  {
   "cell_type": "code",
   "execution_count": 5,
   "metadata": {},
   "outputs": [],
   "source": [
    "data.drop(columns = ['RedFighter', 'BlueFighter', 'Date', 'Location', 'Country', 'Gender', 'BetterRank','Finish', 'FinishDetails', 'FinishRoundTime'], inplace = True)"
   ]
  },
  {
   "cell_type": "code",
   "execution_count": 6,
   "metadata": {},
   "outputs": [
    {
     "data": {
      "text/html": [
       "<div>\n",
       "<style scoped>\n",
       "    .dataframe tbody tr th:only-of-type {\n",
       "        vertical-align: middle;\n",
       "    }\n",
       "\n",
       "    .dataframe tbody tr th {\n",
       "        vertical-align: top;\n",
       "    }\n",
       "\n",
       "    .dataframe thead th {\n",
       "        text-align: right;\n",
       "    }\n",
       "</style>\n",
       "<table border=\"1\" class=\"dataframe\">\n",
       "  <thead>\n",
       "    <tr style=\"text-align: right;\">\n",
       "      <th></th>\n",
       "      <th>Winner</th>\n",
       "      <th>WeightClass</th>\n",
       "      <th>BlueStance</th>\n",
       "      <th>RedStance</th>\n",
       "    </tr>\n",
       "  </thead>\n",
       "  <tbody>\n",
       "    <tr>\n",
       "      <th>0</th>\n",
       "      <td>Red</td>\n",
       "      <td>Flyweight</td>\n",
       "      <td>Orthodox</td>\n",
       "      <td>Orthodox</td>\n",
       "    </tr>\n",
       "    <tr>\n",
       "      <th>1</th>\n",
       "      <td>Red</td>\n",
       "      <td>Welterweight</td>\n",
       "      <td>Orthodox</td>\n",
       "      <td>Orthodox</td>\n",
       "    </tr>\n",
       "    <tr>\n",
       "      <th>2</th>\n",
       "      <td>Red</td>\n",
       "      <td>Heavyweight</td>\n",
       "      <td>Orthodox</td>\n",
       "      <td>Orthodox</td>\n",
       "    </tr>\n",
       "    <tr>\n",
       "      <th>3</th>\n",
       "      <td>Red</td>\n",
       "      <td>Featherweight</td>\n",
       "      <td>Southpaw</td>\n",
       "      <td>Southpaw</td>\n",
       "    </tr>\n",
       "    <tr>\n",
       "      <th>4</th>\n",
       "      <td>Blue</td>\n",
       "      <td>Featherweight</td>\n",
       "      <td>Orthodox</td>\n",
       "      <td>Orthodox</td>\n",
       "    </tr>\n",
       "    <tr>\n",
       "      <th>...</th>\n",
       "      <td>...</td>\n",
       "      <td>...</td>\n",
       "      <td>...</td>\n",
       "      <td>...</td>\n",
       "    </tr>\n",
       "    <tr>\n",
       "      <th>6523</th>\n",
       "      <td>Blue</td>\n",
       "      <td>Lightweight</td>\n",
       "      <td>Orthodox</td>\n",
       "      <td>Orthodox</td>\n",
       "    </tr>\n",
       "    <tr>\n",
       "      <th>6524</th>\n",
       "      <td>Red</td>\n",
       "      <td>Welterweight</td>\n",
       "      <td>Southpaw</td>\n",
       "      <td>Orthodox</td>\n",
       "    </tr>\n",
       "    <tr>\n",
       "      <th>6525</th>\n",
       "      <td>Red</td>\n",
       "      <td>Heavyweight</td>\n",
       "      <td>Orthodox</td>\n",
       "      <td>Orthodox</td>\n",
       "    </tr>\n",
       "    <tr>\n",
       "      <th>6526</th>\n",
       "      <td>Red</td>\n",
       "      <td>Welterweight</td>\n",
       "      <td>Orthodox</td>\n",
       "      <td>Orthodox</td>\n",
       "    </tr>\n",
       "    <tr>\n",
       "      <th>6527</th>\n",
       "      <td>Blue</td>\n",
       "      <td>Light Heavyweight</td>\n",
       "      <td>Orthodox</td>\n",
       "      <td>Orthodox</td>\n",
       "    </tr>\n",
       "  </tbody>\n",
       "</table>\n",
       "<p>6528 rows × 4 columns</p>\n",
       "</div>"
      ],
      "text/plain": [
       "     Winner        WeightClass BlueStance RedStance\n",
       "0       Red          Flyweight   Orthodox  Orthodox\n",
       "1       Red       Welterweight   Orthodox  Orthodox\n",
       "2       Red        Heavyweight   Orthodox  Orthodox\n",
       "3       Red      Featherweight   Southpaw  Southpaw\n",
       "4      Blue      Featherweight   Orthodox  Orthodox\n",
       "...     ...                ...        ...       ...\n",
       "6523   Blue        Lightweight   Orthodox  Orthodox\n",
       "6524    Red       Welterweight   Southpaw  Orthodox\n",
       "6525    Red        Heavyweight   Orthodox  Orthodox\n",
       "6526    Red       Welterweight   Orthodox  Orthodox\n",
       "6527   Blue  Light Heavyweight   Orthodox  Orthodox\n",
       "\n",
       "[6528 rows x 4 columns]"
      ]
     },
     "execution_count": 6,
     "metadata": {},
     "output_type": "execute_result"
    }
   ],
   "source": [
    "data.select_dtypes(include=['object'])"
   ]
  },
  {
   "cell_type": "code",
   "execution_count": 7,
   "metadata": {},
   "outputs": [
    {
     "name": "stderr",
     "output_type": "stream",
     "text": [
      "/var/folders/dd/1z0t59cd1yz727ndmzd5xk1h0000gn/T/ipykernel_80558/3657544116.py:3: FutureWarning: Downcasting behavior in `replace` is deprecated and will be removed in a future version. To retain the old behavior, explicitly call `result.infer_objects(copy=False)`. To opt-in to the future behavior, set `pd.set_option('future.no_silent_downcasting', True)`\n",
      "  data['RedStance'] = data['RedStance'].replace(stance_map)\n",
      "/var/folders/dd/1z0t59cd1yz727ndmzd5xk1h0000gn/T/ipykernel_80558/3657544116.py:6: FutureWarning: Downcasting behavior in `replace` is deprecated and will be removed in a future version. To retain the old behavior, explicitly call `result.infer_objects(copy=False)`. To opt-in to the future behavior, set `pd.set_option('future.no_silent_downcasting', True)`\n",
      "  data['Winner'] = data['Winner'].replace(win_map)\n",
      "/var/folders/dd/1z0t59cd1yz727ndmzd5xk1h0000gn/T/ipykernel_80558/3657544116.py:7: FutureWarning: A value is trying to be set on a copy of a DataFrame or Series through chained assignment using an inplace method.\n",
      "The behavior will change in pandas 3.0. This inplace method will never work because the intermediate object on which we are setting values always behaves as a copy.\n",
      "\n",
      "For example, when doing 'df[col].method(value, inplace=True)', try using 'df.method({col: value}, inplace=True)' or df[col] = df[col].method(value) instead, to perform the operation inplace on the original object.\n",
      "\n",
      "\n",
      "  data['Winner'].replace(np.nan, 2, inplace = True)\n"
     ]
    }
   ],
   "source": [
    "stance_map = {'Orthodox': 0, 'Southpaw': 1, 'Switch': 2, 'Open Stance': 3}\n",
    "data['BlueStance'] = data['BlueStance'].replace(stance_map)\n",
    "data['RedStance'] = data['RedStance'].replace(stance_map)\n",
    "\n",
    "win_map = {'Red': 0, 'Blue': 1}\n",
    "data['Winner'] = data['Winner'].replace(win_map)\n",
    "data['Winner'].replace(np.nan, 2, inplace = True)"
   ]
  },
  {
   "cell_type": "code",
   "execution_count": 8,
   "metadata": {},
   "outputs": [
    {
     "data": {
      "text/plain": [
       "Winner\n",
       "0    3787\n",
       "1    2741\n",
       "Name: count, dtype: int64"
      ]
     },
     "execution_count": 8,
     "metadata": {},
     "output_type": "execute_result"
    }
   ],
   "source": [
    "data['Winner'].unique()\n",
    "data['Winner'].value_counts()"
   ]
  },
  {
   "cell_type": "code",
   "execution_count": 9,
   "metadata": {},
   "outputs": [
    {
     "name": "stdout",
     "output_type": "stream",
     "text": [
      "<class 'pandas.core.frame.DataFrame'>\n",
      "RangeIndex: 6528 entries, 0 to 6527\n",
      "Columns: 108 entries, RedOdds to BKOOdds\n",
      "dtypes: bool(1), float64(60), int64(45), object(2)\n",
      "memory usage: 5.3+ MB\n"
     ]
    }
   ],
   "source": [
    "data.info()\n"
   ]
  },
  {
   "cell_type": "code",
   "execution_count": 10,
   "metadata": {},
   "outputs": [
    {
     "name": "stdout",
     "output_type": "stream",
     "text": [
      "Index(['RedOdds', 'BlueOdds', 'RedExpectedValue', 'BlueExpectedValue',\n",
      "       'TitleBout', 'WeightClass', 'NumberOfRounds', 'BlueCurrentLoseStreak',\n",
      "       'BlueCurrentWinStreak', 'BlueDraws',\n",
      "       ...\n",
      "       'BFlyweightRank', 'BPFPRank', 'FinishRound', 'TotalFightTimeSecs',\n",
      "       'RedDecOdds', 'BlueDecOdds', 'RSubOdds', 'BSubOdds', 'RKOOdds',\n",
      "       'BKOOdds'],\n",
      "      dtype='object', length=107)\n"
     ]
    }
   ],
   "source": [
    "x = data.drop(columns = ['Winner'])\n",
    "print(x.columns)\n",
    "y = data['Winner']"
   ]
  },
  {
   "cell_type": "code",
   "execution_count": 11,
   "metadata": {},
   "outputs": [],
   "source": [
    "def fill_nan(df):\n",
    "    df_filled = df.copy()\n",
    "    numeric_cols = df.select_dtypes(include=[np.number]).columns\n",
    "    df_filled[numeric_cols] = df_filled.groupby('WeightClass')[numeric_cols].transform(lambda x: x.fillna(x.mean()))\n",
    "\n",
    "    remaining_na = df_filled[numeric_cols].isna().sum().sum()\n",
    "    if remaining_na > 0:\n",
    "        df_filled[numeric_cols] = df_filled[numeric_cols].fillna(df_filled[numeric_cols].mean())\n",
    "    \n",
    "    return df_filled\n",
    "\n",
    "x_filled = fill_nan(x)\n",
    "\n",
    "x_filled.replace(np.nan, 0, inplace = True)\n",
    "\n",
    "x_filled_num = x_filled.select_dtypes(include=['float64', 'int64'])\n"
   ]
  },
  {
   "cell_type": "markdown",
   "metadata": {},
   "source": [
    "### Get Features"
   ]
  },
  {
   "cell_type": "code",
   "execution_count": 12,
   "metadata": {},
   "outputs": [
    {
     "name": "stdout",
     "output_type": "stream",
     "text": [
      "Selected features: Index(['RedOdds', 'BlueOdds', 'RedExpectedValue', 'BlueExpectedValue',\n",
      "       'BlueCurrentWinStreak', 'BlueAvgSigStrPct', 'BlueAvgTDLanded',\n",
      "       'BlueLosses', 'RedCurrentLoseStreak', 'RedCurrentWinStreak',\n",
      "       'RedAvgSigStrPct', 'RedAvgTDLanded', 'RedAvgTDPct', 'RedLosses',\n",
      "       'RedTotalRoundsFought', 'RedWinsByDecisionSplit', 'RedAge', 'BlueAge',\n",
      "       'WinStreakDif', 'TotalRoundDif', 'ReachDif', 'SigStrDif',\n",
      "       'AvgSubAttDif', 'AvgTDDif', 'RedDecOdds', 'BlueDecOdds', 'RSubOdds',\n",
      "       'BSubOdds', 'RKOOdds', 'BKOOdds'],\n",
      "      dtype='object')\n"
     ]
    },
    {
     "name": "stderr",
     "output_type": "stream",
     "text": [
      "/Users/shahinsheikh/ufc-predictor/.venv/lib/python3.13/site-packages/sklearn/feature_selection/_univariate_selection.py:111: UserWarning: Features [71 84] are constant.\n",
      "  warnings.warn(\"Features %s are constant.\" % constant_features_idx, UserWarning)\n",
      "/Users/shahinsheikh/ufc-predictor/.venv/lib/python3.13/site-packages/sklearn/feature_selection/_univariate_selection.py:112: RuntimeWarning: invalid value encountered in divide\n",
      "  f = msb / msw\n"
     ]
    }
   ],
   "source": [
    "from sklearn.feature_selection import SelectKBest, f_classif\n",
    "\n",
    "selector = SelectKBest(f_classif, k=30)\n",
    "x_new = selector.fit_transform(x_filled_num, y)\n",
    "\n",
    "selected_features = x_filled_num.columns[selector.get_support()]\n",
    "print('Selected features:', selected_features)"
   ]
  },
  {
   "cell_type": "code",
   "execution_count": 13,
   "metadata": {},
   "outputs": [],
   "source": [
    "train_x, test_x, y_train, y_test = train_test_split(x_new, y, test_size = 0.2, random_state = 42)"
   ]
  },
  {
   "cell_type": "code",
   "execution_count": 14,
   "metadata": {},
   "outputs": [
    {
     "name": "stdout",
     "output_type": "stream",
     "text": [
      "(5222, 30)\n",
      "(1306, 30)\n",
      "(5222,)\n",
      "(1306,)\n"
     ]
    }
   ],
   "source": [
    "print(train_x.shape)\n",
    "print(test_x.shape)\n",
    "print(y_train.shape)\n",
    "print(y_test.shape)"
   ]
  },
  {
   "cell_type": "code",
   "execution_count": 15,
   "metadata": {},
   "outputs": [],
   "source": [
    "seed = 420\n",
    "np.random.seed(seed)"
   ]
  },
  {
   "cell_type": "markdown",
   "metadata": {},
   "source": [
    "## Create models"
   ]
  },
  {
   "cell_type": "markdown",
   "metadata": {},
   "source": [
    "### Logistic Regression "
   ]
  },
  {
   "cell_type": "code",
   "execution_count": 16,
   "metadata": {},
   "outputs": [
    {
     "name": "stdout",
     "output_type": "stream",
     "text": [
      "Logistic Regression K-fold scores:  [0.68451243 0.63671128 0.66283525 0.66091954 0.64750958 0.70881226\n",
      " 0.66091954 0.63601533 0.64750958 0.66091954]\n",
      "Logistic Regression K-fold mean score:  0.6606664322395843\n"
     ]
    }
   ],
   "source": [
    "from sklearn.linear_model import LogisticRegression\n",
    "from sklearn.preprocessing import StandardScaler\n",
    "\n",
    "scaler = StandardScaler()\n",
    "x_train = scaler.fit_transform(train_x)\n",
    "x_test = scaler.transform(test_x)\n",
    "\n",
    "lr1 = LogisticRegression(max_iter = 1000)\n",
    "kfold = StratifiedKFold(n_splits = 10, shuffle = True, random_state = seed)\n",
    "cv_lr = cross_val_score(lr1, x_train, y_train, cv = kfold)\n",
    "lr_score = cv_lr.mean()\n",
    "\n",
    "print('Logistic Regression K-fold scores: ', cv_lr)\n",
    "print('Logistic Regression K-fold mean score: ', lr_score)"
   ]
  },
  {
   "cell_type": "markdown",
   "metadata": {},
   "source": [
    "### Decision Tree"
   ]
  },
  {
   "cell_type": "code",
   "execution_count": 17,
   "metadata": {},
   "outputs": [
    {
     "name": "stdout",
     "output_type": "stream",
     "text": [
      "Decision Tree K-fold scores:  [0.583174   0.58699809 0.57471264 0.55555556 0.57662835 0.56896552\n",
      " 0.59003831 0.57471264 0.57854406 0.58812261]\n",
      "Decision Tree K-fold mean score:  0.5777451777616609\n"
     ]
    }
   ],
   "source": [
    "from sklearn import tree\n",
    "\n",
    "dt = tree.DecisionTreeClassifier(random_state = 1)\n",
    "kfold = StratifiedKFold(n_splits = 10, shuffle = True, random_state = seed)\n",
    "cv_dt = cross_val_score(dt, x_train, y_train, cv = kfold)\n",
    "dt_score = cv_dt.mean()\n",
    "\n",
    "print('Decision Tree K-fold scores: ', cv_dt)\n",
    "print('Decision Tree K-fold mean score: ', dt_score)"
   ]
  },
  {
   "cell_type": "markdown",
   "metadata": {},
   "source": [
    "### K-Nearest Neighbors"
   ]
  },
  {
   "cell_type": "code",
   "execution_count": 18,
   "metadata": {},
   "outputs": [
    {
     "name": "stdout",
     "output_type": "stream",
     "text": [
      "K-Nearest Neighbors K-fold scores:  [0.60038241 0.59655832 0.55938697 0.57088123 0.58812261 0.62643678\n",
      " 0.57088123 0.6091954  0.62068966 0.59961686]\n",
      "K-Nearest Neighbors K-fold mean score:  0.5942151454546787\n"
     ]
    }
   ],
   "source": [
    "from sklearn.neighbors import KNeighborsClassifier\n",
    "\n",
    "knn = KNeighborsClassifier()\n",
    "kfold = StratifiedKFold(n_splits = 10, shuffle = True, random_state = seed)\n",
    "cv_knn = cross_val_score(knn, x_train, y_train, cv = kfold)\n",
    "knn_score = cv_knn.mean()\n",
    "\n",
    "print('K-Nearest Neighbors K-fold scores: ', cv_knn)\n",
    "print('K-Nearest Neighbors K-fold mean score: ', knn_score)"
   ]
  },
  {
   "cell_type": "markdown",
   "metadata": {},
   "source": [
    "### Random Forest"
   ]
  },
  {
   "cell_type": "code",
   "execution_count": 19,
   "metadata": {},
   "outputs": [
    {
     "name": "stdout",
     "output_type": "stream",
     "text": [
      "Random Forest K-fold scores:  [0.66921606 0.63097514 0.63793103 0.64750958 0.62068966 0.68007663\n",
      " 0.64750958 0.63793103 0.65517241 0.66475096]\n",
      "Random Forest K-fold mean score:  0.6491762085814964\n"
     ]
    }
   ],
   "source": [
    "from sklearn.ensemble import RandomForestClassifier\n",
    "\n",
    "rf = RandomForestClassifier(random_state = 1)\n",
    "kfold = StratifiedKFold(n_splits = 10, shuffle = True, random_state = seed)\n",
    "cv_rf = cross_val_score(rf, x_train, y_train, cv = kfold)\n",
    "rf_score = cv_rf.mean()\n",
    "\n",
    "print('Random Forest K-fold scores: ', cv_rf)\n",
    "print('Random Forest K-fold mean score: ', rf_score)"
   ]
  },
  {
   "cell_type": "markdown",
   "metadata": {},
   "source": [
    "### Neural Network"
   ]
  },
  {
   "cell_type": "code",
   "execution_count": 20,
   "metadata": {},
   "outputs": [],
   "source": [
    "import torch\n",
    "import torch.nn as nn\n",
    "from sklearn.preprocessing import LabelEncoder\n",
    "import torch.nn.functional as F\n",
    "\n",
    "encoder = LabelEncoder()\n",
    "encoder.fit(y_train)\n",
    "encoded_y_train = encoder.transform(y_train)\n",
    "y_train_tensor = torch.tensor(encoded_y_train, dtype = torch.long)\n",
    "\n",
    "encoded_y_test = encoder.transform(y_test)\n",
    "y_test_tensor = torch.tensor(encoded_y_test, dtype = torch.long)\n",
    "\n",
    "x_train_tensor = torch.tensor(x_train, dtype = torch.float32)\n",
    "x_test_tensor = torch.tensor(x_test, dtype = torch.float32)"
   ]
  },
  {
   "cell_type": "code",
   "execution_count": 21,
   "metadata": {},
   "outputs": [],
   "source": [
    "class NeuralNetwork(nn.Module):\n",
    "    def __init__(self, input_dim):\n",
    "        super(NeuralNetwork, self).__init__()\n",
    "\n",
    "        self.layer1 = nn.Linear(input_dim, 64)\n",
    "        self.layer2 = nn.Linear(64, 128)\n",
    "        self.layer3 = nn.Linear(128, 128)\n",
    "        self.layer4 = nn.Linear(128, 32)\n",
    "        self.layer5 = nn.Linear(32, 2)\n",
    "\n",
    "        self.dropout = nn.Dropout(0.1)\n",
    "\n",
    "    def forward(self, x):\n",
    "        x = F.relu(self.layer1(x))\n",
    "        x = F.relu(self.layer2(x))\n",
    "        x = self.dropout(x)\n",
    "        x = F.relu(self.layer3(x))\n",
    "        x = F.relu(self.layer4(x))\n",
    "        x = self.dropout(x)\n",
    "        x = self.layer5(x)\n",
    "\n",
    "        return F.log_softmax(x, dim = 1)"
   ]
  },
  {
   "cell_type": "code",
   "execution_count": 22,
   "metadata": {},
   "outputs": [],
   "source": [
    "model = NeuralNetwork(x_train_tensor.shape[1])"
   ]
  },
  {
   "cell_type": "code",
   "execution_count": 23,
   "metadata": {},
   "outputs": [],
   "source": [
    "criterion  = nn.CrossEntropyLoss()\n",
    "optimizer = torch.optim.Adam(model.parameters())"
   ]
  },
  {
   "cell_type": "code",
   "execution_count": 24,
   "metadata": {},
   "outputs": [],
   "source": [
    "def train_model(model, x_train, y_train, epochs = 10, batch_size = 32):\n",
    "    model.train()\n",
    "    for epoch in range(epochs):\n",
    "        optimizer.zero_grad()\n",
    "        outputs = model(x_train)\n",
    "        loss = criterion(outputs, y_train)\n",
    "        loss.backward()\n",
    "        optimizer.step()\n",
    "\n",
    "        if epoch % 10 == 0:\n",
    "            print(f'Epoch {epoch}, Loss: {loss.item():.4f}')"
   ]
  },
  {
   "cell_type": "code",
   "execution_count": 25,
   "metadata": {},
   "outputs": [],
   "source": [
    "def evaluate(model, x_test, y_test):\n",
    "    model.eval()\n",
    "    with torch.no_grad():\n",
    "        outputs = model(x_test)\n",
    "        _, predicted = torch.max(outputs.data, 1)\n",
    "        accuracy = (predicted == y_test).sum().item()/len(y_test)\n",
    "        return accuracy"
   ]
  },
  {
   "cell_type": "code",
   "execution_count": 26,
   "metadata": {},
   "outputs": [
    {
     "name": "stdout",
     "output_type": "stream",
     "text": [
      "Epoch 0, Loss: 0.6983\n",
      "Epoch 10, Loss: 0.6611\n",
      "Epoch 20, Loss: 0.6150\n",
      "Epoch 30, Loss: 0.6109\n",
      "Epoch 40, Loss: 0.6032\n",
      "Epoch 50, Loss: 0.5971\n",
      "Epoch 60, Loss: 0.5896\n",
      "Epoch 70, Loss: 0.5776\n",
      "Epoch 80, Loss: 0.5581\n",
      "Epoch 90, Loss: 0.5362\n",
      "Epoch 100, Loss: 0.4977\n",
      "Epoch 110, Loss: 0.4752\n",
      "Epoch 120, Loss: 0.4445\n",
      "Epoch 130, Loss: 0.4184\n",
      "Epoch 140, Loss: 0.3929\n",
      "Epoch 150, Loss: 0.3802\n",
      "Epoch 160, Loss: 0.3505\n",
      "Epoch 170, Loss: 0.3467\n",
      "Epoch 180, Loss: 0.3263\n",
      "Epoch 190, Loss: 0.3107\n",
      "Epoch 200, Loss: 0.3006\n",
      "Epoch 210, Loss: 0.2756\n",
      "Epoch 220, Loss: 0.2665\n",
      "Epoch 230, Loss: 0.2528\n",
      "Epoch 240, Loss: 0.2437\n",
      "Epoch 250, Loss: 0.2318\n",
      "Epoch 260, Loss: 0.2211\n",
      "Epoch 270, Loss: 0.2156\n",
      "Epoch 280, Loss: 0.2092\n",
      "Epoch 290, Loss: 0.1944\n",
      "Epoch 300, Loss: 0.1849\n",
      "Epoch 310, Loss: 0.1833\n",
      "Epoch 320, Loss: 0.1679\n",
      "Epoch 330, Loss: 0.1609\n",
      "Epoch 340, Loss: 0.1665\n",
      "Epoch 350, Loss: 0.1442\n",
      "Epoch 360, Loss: 0.1359\n",
      "Epoch 370, Loss: 0.1380\n",
      "Epoch 380, Loss: 0.1361\n",
      "Epoch 390, Loss: 0.1516\n",
      "Epoch 400, Loss: 0.1287\n",
      "Epoch 410, Loss: 0.1345\n",
      "Epoch 420, Loss: 0.1195\n",
      "Epoch 430, Loss: 0.1130\n",
      "Epoch 440, Loss: 0.1155\n",
      "Epoch 450, Loss: 0.1119\n",
      "Epoch 460, Loss: 0.1033\n",
      "Epoch 470, Loss: 0.1022\n",
      "Epoch 480, Loss: 0.0990\n",
      "Epoch 490, Loss: 0.0980\n"
     ]
    }
   ],
   "source": [
    "train_model = train_model(model, x_train_tensor, y_train_tensor, epochs = 500)"
   ]
  },
  {
   "cell_type": "code",
   "execution_count": 27,
   "metadata": {},
   "outputs": [],
   "source": [
    "def predict(model, x):\n",
    "    model.eval()\n",
    "    with torch.no_grad():\n",
    "        x = torch.FloatTensor(x)\n",
    "        outputs = model(x)\n",
    "        _, predicted = torch.max(outputs.data, 1)\n",
    "        return predicted"
   ]
  },
  {
   "cell_type": "code",
   "execution_count": 28,
   "metadata": {},
   "outputs": [
    {
     "name": "stdout",
     "output_type": "stream",
     "text": [
      "Neural Network accuracy:  0.5934150076569679\n"
     ]
    }
   ],
   "source": [
    "nn_score = evaluate(model, x_test_tensor, y_test_tensor)\n",
    "\n",
    "print('Neural Network accuracy: ', nn_score)"
   ]
  },
  {
   "cell_type": "markdown",
   "metadata": {},
   "source": [
    "### Best Performing Models"
   ]
  },
  {
   "cell_type": "code",
   "execution_count": 29,
   "metadata": {},
   "outputs": [
    {
     "data": {
      "text/html": [
       "<div>\n",
       "<style scoped>\n",
       "    .dataframe tbody tr th:only-of-type {\n",
       "        vertical-align: middle;\n",
       "    }\n",
       "\n",
       "    .dataframe tbody tr th {\n",
       "        vertical-align: top;\n",
       "    }\n",
       "\n",
       "    .dataframe thead th {\n",
       "        text-align: right;\n",
       "    }\n",
       "</style>\n",
       "<table border=\"1\" class=\"dataframe\">\n",
       "  <thead>\n",
       "    <tr style=\"text-align: right;\">\n",
       "      <th></th>\n",
       "      <th>Model</th>\n",
       "      <th>Accuracy</th>\n",
       "    </tr>\n",
       "  </thead>\n",
       "  <tbody>\n",
       "    <tr>\n",
       "      <th>0</th>\n",
       "      <td>Logistic Regression</td>\n",
       "      <td>0.660666</td>\n",
       "    </tr>\n",
       "    <tr>\n",
       "      <th>1</th>\n",
       "      <td>Random Forest</td>\n",
       "      <td>0.649176</td>\n",
       "    </tr>\n",
       "    <tr>\n",
       "      <th>2</th>\n",
       "      <td>Decision Tree</td>\n",
       "      <td>0.577745</td>\n",
       "    </tr>\n",
       "    <tr>\n",
       "      <th>3</th>\n",
       "      <td>K-Nearest Neighbor</td>\n",
       "      <td>0.594215</td>\n",
       "    </tr>\n",
       "    <tr>\n",
       "      <th>4</th>\n",
       "      <td>Neural Network</td>\n",
       "      <td>0.593415</td>\n",
       "    </tr>\n",
       "  </tbody>\n",
       "</table>\n",
       "</div>"
      ],
      "text/plain": [
       "                 Model  Accuracy\n",
       "0  Logistic Regression  0.660666\n",
       "1        Random Forest  0.649176\n",
       "2        Decision Tree  0.577745\n",
       "3   K-Nearest Neighbor  0.594215\n",
       "4       Neural Network  0.593415"
      ]
     },
     "execution_count": 29,
     "metadata": {},
     "output_type": "execute_result"
    }
   ],
   "source": [
    "scores = [['Logistic Regression', lr_score],\n",
    " ['Random Forest', rf_score],\n",
    " ['Decision Tree', dt_score],\n",
    " ['K-Nearest Neighbor', knn_score],\n",
    " ['Neural Network', nn_score]]\n",
    "\n",
    "df_scores = pd.DataFrame(scores, columns = ['Model', 'Accuracy'])\n",
    "\n",
    "df_scores\n"
   ]
  },
  {
   "cell_type": "code",
   "execution_count": 30,
   "metadata": {},
   "outputs": [
    {
     "name": "stdout",
     "output_type": "stream",
     "text": [
      "x\n"
     ]
    }
   ],
   "source": [
    "print('x')\n"
   ]
  },
  {
   "cell_type": "code",
   "execution_count": 31,
   "metadata": {},
   "outputs": [],
   "source": [
    "from sklearn.metrics import confusion_matrix, ConfusionMatrixDisplay\n",
    "import matplotlib.pyplot as plt"
   ]
  },
  {
   "cell_type": "code",
   "execution_count": 32,
   "metadata": {},
   "outputs": [],
   "source": [
    "seed = 300\n",
    "np.random.seed(seed)\n",
    "x_train_cm, x_test_cm, y_train_cm, y_test_cm = train_test_split(x_new, y, test_size = 0.2, random_state = 30)\n",
    "scaler_cm = StandardScaler()\n",
    "x_train_cm = scaler_cm.fit_transform(x_train_cm)\n",
    "x_test_cm = scaler_cm.transform(x_test_cm)"
   ]
  },
  {
   "cell_type": "code",
   "execution_count": 33,
   "metadata": {},
   "outputs": [
    {
     "ename": "",
     "evalue": "",
     "output_type": "error",
     "traceback": [
      "\u001b[1;31mThe Kernel crashed while executing code in the current cell or a previous cell. \n",
      "\u001b[1;31mPlease review the code in the cell(s) to identify a possible cause of the failure. \n",
      "\u001b[1;31mClick <a href='https://aka.ms/vscodeJupyterKernelCrash'>here</a> for more info. \n",
      "\u001b[1;31mView Jupyter <a href='command:jupyter.viewOutput'>log</a> for further details."
     ]
    }
   ],
   "source": [
    "lr_cm = LogisticRegression(max_iter = 1000)\n",
    "lr_cm.fit(x_train_cm, y_train_cm)\n",
    "#y_cm = lr_cm.predict(x_test)\n"
   ]
  },
  {
   "cell_type": "code",
   "execution_count": null,
   "metadata": {},
   "outputs": [],
   "source": []
  }
 ],
 "metadata": {
  "kernelspec": {
   "display_name": ".venv",
   "language": "python",
   "name": "python3"
  },
  "language_info": {
   "codemirror_mode": {
    "name": "ipython",
    "version": 3
   },
   "file_extension": ".py",
   "mimetype": "text/x-python",
   "name": "python",
   "nbconvert_exporter": "python",
   "pygments_lexer": "ipython3",
   "version": "3.13.1"
  }
 },
 "nbformat": 4,
 "nbformat_minor": 2
}
