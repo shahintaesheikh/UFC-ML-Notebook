{
 "cells": [
  {
   "cell_type": "markdown",
   "metadata": {},
   "source": [
    "# UFC ML Model Predictor"
   ]
  },
  {
   "cell_type": "markdown",
   "metadata": {},
   "source": [
    "## Import Libraries"
   ]
  },
  {
   "cell_type": "code",
   "execution_count": 4,
   "metadata": {},
   "outputs": [],
   "source": [
    "import pandas as pd\n",
    "import numpy as np\n",
    "import matplotlib.pyplot as plt\n",
    "\n",
    "from sklearn.model_selection import train_test_split\n",
    "from sklearn.model_selection import cross_val_score\n",
    "from sklearn.model_selection import StratifiedKFold\n",
    "from sklearn.metrics import accuracy_score"
   ]
  },
  {
   "cell_type": "markdown",
   "metadata": {},
   "source": [
    "## Read and Clean Data for Use"
   ]
  },
  {
   "cell_type": "code",
   "execution_count": 5,
   "metadata": {},
   "outputs": [
    {
     "data": {
      "text/html": [
       "<div>\n",
       "<style scoped>\n",
       "    .dataframe tbody tr th:only-of-type {\n",
       "        vertical-align: middle;\n",
       "    }\n",
       "\n",
       "    .dataframe tbody tr th {\n",
       "        vertical-align: top;\n",
       "    }\n",
       "\n",
       "    .dataframe thead th {\n",
       "        text-align: right;\n",
       "    }\n",
       "</style>\n",
       "<table border=\"1\" class=\"dataframe\">\n",
       "  <thead>\n",
       "    <tr style=\"text-align: right;\">\n",
       "      <th></th>\n",
       "      <th>RedFighter</th>\n",
       "      <th>BlueFighter</th>\n",
       "      <th>RedOdds</th>\n",
       "      <th>BlueOdds</th>\n",
       "      <th>RedExpectedValue</th>\n",
       "      <th>BlueExpectedValue</th>\n",
       "      <th>Date</th>\n",
       "      <th>Location</th>\n",
       "      <th>Country</th>\n",
       "      <th>Winner</th>\n",
       "      <th>...</th>\n",
       "      <th>FinishDetails</th>\n",
       "      <th>FinishRound</th>\n",
       "      <th>FinishRoundTime</th>\n",
       "      <th>TotalFightTimeSecs</th>\n",
       "      <th>RedDecOdds</th>\n",
       "      <th>BlueDecOdds</th>\n",
       "      <th>RSubOdds</th>\n",
       "      <th>BSubOdds</th>\n",
       "      <th>RKOOdds</th>\n",
       "      <th>BKOOdds</th>\n",
       "    </tr>\n",
       "  </thead>\n",
       "  <tbody>\n",
       "    <tr>\n",
       "      <th>0</th>\n",
       "      <td>Alexandre Pantoja</td>\n",
       "      <td>Kai Asakura</td>\n",
       "      <td>-250.0</td>\n",
       "      <td>215.0</td>\n",
       "      <td>40.0000</td>\n",
       "      <td>215.0</td>\n",
       "      <td>2024-12-07</td>\n",
       "      <td>Las Vegas, Nevada, USA</td>\n",
       "      <td>USA</td>\n",
       "      <td>Red</td>\n",
       "      <td>...</td>\n",
       "      <td>Rear Naked Choke</td>\n",
       "      <td>2.0</td>\n",
       "      <td>2:05</td>\n",
       "      <td>425.0</td>\n",
       "      <td>300.0</td>\n",
       "      <td>800.0</td>\n",
       "      <td>150.0</td>\n",
       "      <td>2500.0</td>\n",
       "      <td>400.0</td>\n",
       "      <td>350.0</td>\n",
       "    </tr>\n",
       "    <tr>\n",
       "      <th>1</th>\n",
       "      <td>Shavkat Rakhmonov</td>\n",
       "      <td>Ian Machado Garry</td>\n",
       "      <td>-210.0</td>\n",
       "      <td>295.0</td>\n",
       "      <td>47.6190</td>\n",
       "      <td>295.0</td>\n",
       "      <td>2024-12-07</td>\n",
       "      <td>Las Vegas, Nevada, USA</td>\n",
       "      <td>USA</td>\n",
       "      <td>Red</td>\n",
       "      <td>...</td>\n",
       "      <td>NaN</td>\n",
       "      <td>5.0</td>\n",
       "      <td>5:00</td>\n",
       "      <td>1500.0</td>\n",
       "      <td>250.0</td>\n",
       "      <td>650.0</td>\n",
       "      <td>180.0</td>\n",
       "      <td>3000.0</td>\n",
       "      <td>240.0</td>\n",
       "      <td>700.0</td>\n",
       "    </tr>\n",
       "    <tr>\n",
       "      <th>2</th>\n",
       "      <td>Ciryl Gane</td>\n",
       "      <td>Alexander Volkov</td>\n",
       "      <td>-380.0</td>\n",
       "      <td>300.0</td>\n",
       "      <td>26.3158</td>\n",
       "      <td>300.0</td>\n",
       "      <td>2024-12-07</td>\n",
       "      <td>Las Vegas, Nevada, USA</td>\n",
       "      <td>USA</td>\n",
       "      <td>Red</td>\n",
       "      <td>...</td>\n",
       "      <td>NaN</td>\n",
       "      <td>3.0</td>\n",
       "      <td>5:00</td>\n",
       "      <td>900.0</td>\n",
       "      <td>-160.0</td>\n",
       "      <td>450.0</td>\n",
       "      <td>1100.0</td>\n",
       "      <td>3000.0</td>\n",
       "      <td>350.0</td>\n",
       "      <td>1100.0</td>\n",
       "    </tr>\n",
       "    <tr>\n",
       "      <th>3</th>\n",
       "      <td>Bryce Mitchell</td>\n",
       "      <td>Kron Gracie</td>\n",
       "      <td>-950.0</td>\n",
       "      <td>625.0</td>\n",
       "      <td>10.5263</td>\n",
       "      <td>625.0</td>\n",
       "      <td>2024-12-07</td>\n",
       "      <td>Las Vegas, Nevada, USA</td>\n",
       "      <td>USA</td>\n",
       "      <td>Red</td>\n",
       "      <td>...</td>\n",
       "      <td>Elbows</td>\n",
       "      <td>3.0</td>\n",
       "      <td>0:39</td>\n",
       "      <td>639.0</td>\n",
       "      <td>-200.0</td>\n",
       "      <td>1100.0</td>\n",
       "      <td>380.0</td>\n",
       "      <td>1400.0</td>\n",
       "      <td>500.0</td>\n",
       "      <td>4000.0</td>\n",
       "    </tr>\n",
       "    <tr>\n",
       "      <th>4</th>\n",
       "      <td>Nate Landwehr</td>\n",
       "      <td>Dooho Choi</td>\n",
       "      <td>-130.0</td>\n",
       "      <td>110.0</td>\n",
       "      <td>76.9231</td>\n",
       "      <td>110.0</td>\n",
       "      <td>2024-12-07</td>\n",
       "      <td>Las Vegas, Nevada, USA</td>\n",
       "      <td>USA</td>\n",
       "      <td>Blue</td>\n",
       "      <td>...</td>\n",
       "      <td>Elbows</td>\n",
       "      <td>3.0</td>\n",
       "      <td>3:21</td>\n",
       "      <td>801.0</td>\n",
       "      <td>275.0</td>\n",
       "      <td>550.0</td>\n",
       "      <td>500.0</td>\n",
       "      <td>700.0</td>\n",
       "      <td>300.0</td>\n",
       "      <td>250.0</td>\n",
       "    </tr>\n",
       "  </tbody>\n",
       "</table>\n",
       "<p>5 rows × 118 columns</p>\n",
       "</div>"
      ],
      "text/plain": [
       "          RedFighter        BlueFighter  RedOdds  BlueOdds  RedExpectedValue  \\\n",
       "0  Alexandre Pantoja        Kai Asakura   -250.0     215.0           40.0000   \n",
       "1  Shavkat Rakhmonov  Ian Machado Garry   -210.0     295.0           47.6190   \n",
       "2         Ciryl Gane   Alexander Volkov   -380.0     300.0           26.3158   \n",
       "3     Bryce Mitchell        Kron Gracie   -950.0     625.0           10.5263   \n",
       "4      Nate Landwehr         Dooho Choi   -130.0     110.0           76.9231   \n",
       "\n",
       "   BlueExpectedValue        Date                Location Country Winner  ...  \\\n",
       "0              215.0  2024-12-07  Las Vegas, Nevada, USA     USA    Red  ...   \n",
       "1              295.0  2024-12-07  Las Vegas, Nevada, USA     USA    Red  ...   \n",
       "2              300.0  2024-12-07  Las Vegas, Nevada, USA     USA    Red  ...   \n",
       "3              625.0  2024-12-07  Las Vegas, Nevada, USA     USA    Red  ...   \n",
       "4              110.0  2024-12-07  Las Vegas, Nevada, USA     USA   Blue  ...   \n",
       "\n",
       "      FinishDetails FinishRound FinishRoundTime  TotalFightTimeSecs  \\\n",
       "0  Rear Naked Choke         2.0            2:05               425.0   \n",
       "1               NaN         5.0            5:00              1500.0   \n",
       "2               NaN         3.0            5:00               900.0   \n",
       "3            Elbows         3.0            0:39               639.0   \n",
       "4            Elbows         3.0            3:21               801.0   \n",
       "\n",
       "   RedDecOdds  BlueDecOdds  RSubOdds  BSubOdds  RKOOdds  BKOOdds  \n",
       "0       300.0        800.0     150.0    2500.0    400.0    350.0  \n",
       "1       250.0        650.0     180.0    3000.0    240.0    700.0  \n",
       "2      -160.0        450.0    1100.0    3000.0    350.0   1100.0  \n",
       "3      -200.0       1100.0     380.0    1400.0    500.0   4000.0  \n",
       "4       275.0        550.0     500.0     700.0    300.0    250.0  \n",
       "\n",
       "[5 rows x 118 columns]"
      ]
     },
     "execution_count": 5,
     "metadata": {},
     "output_type": "execute_result"
    }
   ],
   "source": [
    "raw = pd.read_csv('ufc-master.csv')\n",
    "raw.head()"
   ]
  },
  {
   "cell_type": "code",
   "execution_count": 10,
   "metadata": {},
   "outputs": [
    {
     "data": {
      "text/plain": [
       "Index(['RedFighter', 'BlueFighter', 'Date', 'Location', 'Country', 'Winner',\n",
       "       'WeightClass', 'Gender', 'BlueStance', 'RedStance', 'BetterRank',\n",
       "       'Finish', 'FinishDetails', 'FinishRoundTime'],\n",
       "      dtype='object')"
      ]
     },
     "execution_count": 10,
     "metadata": {},
     "output_type": "execute_result"
    }
   ],
   "source": [
    "not_stat = raw.select_dtypes(['object']).columns\n",
    "not_stat"
   ]
  },
  {
   "cell_type": "markdown",
   "metadata": {},
   "source": []
  },
  {
   "cell_type": "code",
   "execution_count": 17,
   "metadata": {},
   "outputs": [],
   "source": [
    "raw.drop(columns = ['RedFighter', 'BlueFighter', 'Date', 'Location', 'Country', 'Gender', 'BetterRank','Finish', 'FinishDetails', 'FinishRoundTime'], inplace = True)"
   ]
  },
  {
   "cell_type": "code",
   "execution_count": 18,
   "metadata": {},
   "outputs": [
    {
     "data": {
      "text/plain": [
       "Index(['Winner', 'WeightClass', 'BlueStance', 'RedStance'], dtype='object')"
      ]
     },
     "execution_count": 18,
     "metadata": {},
     "output_type": "execute_result"
    }
   ],
   "source": [
    "raw.select_dtypes(['object']).columns"
   ]
  },
  {
   "cell_type": "code",
   "execution_count": 19,
   "metadata": {},
   "outputs": [
    {
     "name": "stderr",
     "output_type": "stream",
     "text": [
      "/var/folders/dd/1z0t59cd1yz727ndmzd5xk1h0000gn/T/ipykernel_28551/338885014.py:2: FutureWarning: Downcasting behavior in `replace` is deprecated and will be removed in a future version. To retain the old behavior, explicitly call `result.infer_objects(copy=False)`. To opt-in to the future behavior, set `pd.set_option('future.no_silent_downcasting', True)`\n",
      "  raw['RedStance'] = raw['RedStance'].replace(stance_map)\n",
      "/var/folders/dd/1z0t59cd1yz727ndmzd5xk1h0000gn/T/ipykernel_28551/338885014.py:6: FutureWarning: Downcasting behavior in `replace` is deprecated and will be removed in a future version. To retain the old behavior, explicitly call `result.infer_objects(copy=False)`. To opt-in to the future behavior, set `pd.set_option('future.no_silent_downcasting', True)`\n",
      "  raw['Winner'] = raw['Winner'].replace(win_map)\n",
      "/var/folders/dd/1z0t59cd1yz727ndmzd5xk1h0000gn/T/ipykernel_28551/338885014.py:7: FutureWarning: A value is trying to be set on a copy of a DataFrame or Series through chained assignment using an inplace method.\n",
      "The behavior will change in pandas 3.0. This inplace method will never work because the intermediate object on which we are setting values always behaves as a copy.\n",
      "\n",
      "For example, when doing 'df[col].method(value, inplace=True)', try using 'df.method({col: value}, inplace=True)' or df[col] = df[col].method(value) instead, to perform the operation inplace on the original object.\n",
      "\n",
      "\n",
      "  raw['Winner'].replace(np.nan, 2, inplace = True)\n"
     ]
    }
   ],
   "source": [
    "stance_map = {'Orthodox': 0, 'Southpaw': 1, 'Switch': 2, 'Open Stance': 3}\n",
    "raw['RedStance'] = raw['RedStance'].replace(stance_map)\n",
    "raw['BlueStance'] = raw['BlueStance'].replace(stance_map)\n",
    "\n",
    "win_map = {'Red': 1, 'Blue': 0}\n",
    "raw['Winner'] = raw['Winner'].replace(win_map)\n",
    "raw['Winner'].replace(np.nan, 2, inplace = True)"
   ]
  },
  {
   "cell_type": "code",
   "execution_count": 21,
   "metadata": {},
   "outputs": [
    {
     "data": {
      "text/plain": [
       "Winner\n",
       "1    3787\n",
       "0    2741\n",
       "Name: count, dtype: int64"
      ]
     },
     "execution_count": 21,
     "metadata": {},
     "output_type": "execute_result"
    }
   ],
   "source": [
    "raw['Winner'].unique()\n",
    "raw['Winner'].value_counts()"
   ]
  },
  {
   "cell_type": "code",
   "execution_count": 22,
   "metadata": {},
   "outputs": [],
   "source": [
    "x = raw.drop(columns = ['Winner'])\n",
    "y = raw['Winner']"
   ]
  },
  {
   "cell_type": "code",
   "execution_count": 24,
   "metadata": {},
   "outputs": [],
   "source": [
    "def fill_nan_by_weight(df):\n",
    "    df_new = df.copy()\n",
    "    numeric_cols = df_new.select_dtypes(include=[np.number]).columns\n",
    "    df_new = df_new.groupby('WeightClass')[numeric_cols].transform(lambda x: x.fillna(x.mean()))\n",
    "\n",
    "    remaining = df_new[numeric_cols].isna().sum().sum()\n",
    "    if remaining > 0:\n",
    "        df_new[numeric_cols] = df_new[numeric_cols].fillna(df_new[numeric_cols].mean())\n",
    "\n",
    "    return df_new\n",
    "\n",
    "x_filled = fill_nan_by_weight(x)\n",
    "\n",
    "x_filled.replace(np.nan, 0, inplace = True)\n",
    "\n",
    "x = x_filled.select_dtypes(include=[np.number])"
   ]
  },
  {
   "cell_type": "code",
   "execution_count": 25,
   "metadata": {},
   "outputs": [],
   "source": [
    "x_train, x_test, y_train, y_test = train_test_split(x, y, test_size = 0.2, random_state = 42)"
   ]
  },
  {
   "cell_type": "code",
   "execution_count": 26,
   "metadata": {},
   "outputs": [
    {
     "name": "stdout",
     "output_type": "stream",
     "text": [
      "(5222, 104) (1306, 104) (5222,) (1306,)\n"
     ]
    }
   ],
   "source": [
    "print(x_train.shape, x_test.shape, y_train.shape, y_test.shape)"
   ]
  },
  {
   "cell_type": "code",
   "execution_count": 27,
   "metadata": {},
   "outputs": [],
   "source": [
    "seed = 360\n",
    "np.random.seed(seed)"
   ]
  },
  {
   "cell_type": "code",
   "execution_count": null,
   "metadata": {},
   "outputs": [],
   "source": [
    "from sklearn.preprocessing import StandardScaler   \n",
    "\n",
    "scaler = StandardScaler()\n",
    "scaler.fit_transform(x_train)\n",
    "scaler.transform(x_test)"
   ]
  }
 ],
 "metadata": {
  "kernelspec": {
   "display_name": ".venv",
   "language": "python",
   "name": "python3"
  },
  "language_info": {
   "codemirror_mode": {
    "name": "ipython",
    "version": 3
   },
   "file_extension": ".py",
   "mimetype": "text/x-python",
   "name": "python",
   "nbconvert_exporter": "python",
   "pygments_lexer": "ipython3",
   "version": "3.13.1"
  }
 },
 "nbformat": 4,
 "nbformat_minor": 2
}
